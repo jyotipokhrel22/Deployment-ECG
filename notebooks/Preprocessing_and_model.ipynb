{
 "cells": [
  {
   "cell_type": "markdown",
   "metadata": {
    "id": "0H9FvSz8fTMw"
   },
   "source": [
    "MIT-BIH Arrhythmia Database - Complete Preprocessing Pipeline\n",
    "==============================================================\n",
    "This script performs efficient preprocessing and creates stratified train-test splits.\n",
    "\n",
    "Key Features:\n",
    "- Signal cleaning (filtering, normalization)\n",
    "- Beat segmentation\n",
    "- Stratified splitting to handle class imbalance\n",
    "- Ready-to-use datasets for model training\n",
    "\n"
   ]
  },
  {
   "cell_type": "code",
   "execution_count": 2,
   "metadata": {
    "colab": {
     "base_uri": "https://localhost:8080/"
    },
    "id": "gzTmkr6-fvA5",
    "outputId": "87939bf4-ba9c-443d-df6f-7ad882bfa08e"
   },
   "outputs": [
    {
     "name": "stdout",
     "output_type": "stream",
     "text": [
      "Requirement already satisfied: wfdb in /home/zeus/miniconda3/envs/cloudspace/lib/python3.12/site-packages (4.3.0)\n",
      "Requirement already satisfied: aiohttp>=3.10.11 in /home/zeus/miniconda3/envs/cloudspace/lib/python3.12/site-packages (from wfdb) (3.13.0)\n",
      "Requirement already satisfied: fsspec>=2023.10.0 in /home/zeus/miniconda3/envs/cloudspace/lib/python3.12/site-packages (from wfdb) (2025.9.0)\n",
      "Requirement already satisfied: matplotlib>=3.2.2 in /home/zeus/miniconda3/envs/cloudspace/lib/python3.12/site-packages (from wfdb) (3.8.2)\n",
      "Requirement already satisfied: numpy>=1.26.4 in /home/zeus/miniconda3/envs/cloudspace/lib/python3.12/site-packages (from wfdb) (1.26.4)\n",
      "Requirement already satisfied: pandas>=2.2.3 in /home/zeus/miniconda3/envs/cloudspace/lib/python3.12/site-packages (from wfdb) (2.3.3)\n",
      "Requirement already satisfied: requests>=2.8.1 in /home/zeus/miniconda3/envs/cloudspace/lib/python3.12/site-packages (from wfdb) (2.32.5)\n",
      "Requirement already satisfied: scipy>=1.13.0 in /home/zeus/miniconda3/envs/cloudspace/lib/python3.12/site-packages (from wfdb) (1.16.2)\n",
      "Requirement already satisfied: soundfile>=0.10.0 in /home/zeus/miniconda3/envs/cloudspace/lib/python3.12/site-packages (from wfdb) (0.13.1)\n",
      "Requirement already satisfied: aiohappyeyeballs>=2.5.0 in /home/zeus/miniconda3/envs/cloudspace/lib/python3.12/site-packages (from aiohttp>=3.10.11->wfdb) (2.6.1)\n",
      "Requirement already satisfied: aiosignal>=1.4.0 in /home/zeus/miniconda3/envs/cloudspace/lib/python3.12/site-packages (from aiohttp>=3.10.11->wfdb) (1.4.0)\n",
      "Requirement already satisfied: attrs>=17.3.0 in /home/zeus/miniconda3/envs/cloudspace/lib/python3.12/site-packages (from aiohttp>=3.10.11->wfdb) (25.4.0)\n",
      "Requirement already satisfied: frozenlist>=1.1.1 in /home/zeus/miniconda3/envs/cloudspace/lib/python3.12/site-packages (from aiohttp>=3.10.11->wfdb) (1.8.0)\n",
      "Requirement already satisfied: multidict<7.0,>=4.5 in /home/zeus/miniconda3/envs/cloudspace/lib/python3.12/site-packages (from aiohttp>=3.10.11->wfdb) (6.7.0)\n",
      "Requirement already satisfied: propcache>=0.2.0 in /home/zeus/miniconda3/envs/cloudspace/lib/python3.12/site-packages (from aiohttp>=3.10.11->wfdb) (0.4.0)\n",
      "Requirement already satisfied: yarl<2.0,>=1.17.0 in /home/zeus/miniconda3/envs/cloudspace/lib/python3.12/site-packages (from aiohttp>=3.10.11->wfdb) (1.22.0)\n",
      "Requirement already satisfied: idna>=2.0 in /home/zeus/miniconda3/envs/cloudspace/lib/python3.12/site-packages (from yarl<2.0,>=1.17.0->aiohttp>=3.10.11->wfdb) (3.10)\n",
      "Requirement already satisfied: typing-extensions>=4.2 in /home/zeus/miniconda3/envs/cloudspace/lib/python3.12/site-packages (from aiosignal>=1.4.0->aiohttp>=3.10.11->wfdb) (4.15.0)\n",
      "Requirement already satisfied: contourpy>=1.0.1 in /home/zeus/miniconda3/envs/cloudspace/lib/python3.12/site-packages (from matplotlib>=3.2.2->wfdb) (1.3.3)\n",
      "Requirement already satisfied: cycler>=0.10 in /home/zeus/miniconda3/envs/cloudspace/lib/python3.12/site-packages (from matplotlib>=3.2.2->wfdb) (0.12.1)\n",
      "Requirement already satisfied: fonttools>=4.22.0 in /home/zeus/miniconda3/envs/cloudspace/lib/python3.12/site-packages (from matplotlib>=3.2.2->wfdb) (4.60.1)\n",
      "Requirement already satisfied: kiwisolver>=1.3.1 in /home/zeus/miniconda3/envs/cloudspace/lib/python3.12/site-packages (from matplotlib>=3.2.2->wfdb) (1.4.9)\n",
      "Requirement already satisfied: packaging>=20.0 in /home/zeus/miniconda3/envs/cloudspace/lib/python3.12/site-packages (from matplotlib>=3.2.2->wfdb) (25.0)\n",
      "Requirement already satisfied: pillow>=8 in /home/zeus/miniconda3/envs/cloudspace/lib/python3.12/site-packages (from matplotlib>=3.2.2->wfdb) (11.3.0)\n",
      "Requirement already satisfied: pyparsing>=2.3.1 in /home/zeus/miniconda3/envs/cloudspace/lib/python3.12/site-packages (from matplotlib>=3.2.2->wfdb) (3.2.5)\n",
      "Requirement already satisfied: python-dateutil>=2.7 in /home/zeus/miniconda3/envs/cloudspace/lib/python3.12/site-packages (from matplotlib>=3.2.2->wfdb) (2.9.0.post0)\n",
      "Requirement already satisfied: pytz>=2020.1 in /home/zeus/miniconda3/envs/cloudspace/lib/python3.12/site-packages (from pandas>=2.2.3->wfdb) (2025.2)\n",
      "Requirement already satisfied: tzdata>=2022.7 in /home/zeus/miniconda3/envs/cloudspace/lib/python3.12/site-packages (from pandas>=2.2.3->wfdb) (2025.2)\n",
      "Requirement already satisfied: six>=1.5 in /home/zeus/miniconda3/envs/cloudspace/lib/python3.12/site-packages (from python-dateutil>=2.7->matplotlib>=3.2.2->wfdb) (1.17.0)\n",
      "Requirement already satisfied: charset_normalizer<4,>=2 in /home/zeus/miniconda3/envs/cloudspace/lib/python3.12/site-packages (from requests>=2.8.1->wfdb) (3.4.3)\n",
      "Requirement already satisfied: urllib3<3,>=1.21.1 in /home/zeus/miniconda3/envs/cloudspace/lib/python3.12/site-packages (from requests>=2.8.1->wfdb) (2.5.0)\n",
      "Requirement already satisfied: certifi>=2017.4.17 in /home/zeus/miniconda3/envs/cloudspace/lib/python3.12/site-packages (from requests>=2.8.1->wfdb) (2025.10.5)\n",
      "Requirement already satisfied: cffi>=1.0 in /home/zeus/miniconda3/envs/cloudspace/lib/python3.12/site-packages (from soundfile>=0.10.0->wfdb) (2.0.0)\n",
      "Requirement already satisfied: pycparser in /home/zeus/miniconda3/envs/cloudspace/lib/python3.12/site-packages (from cffi>=1.0->soundfile>=0.10.0->wfdb) (2.23)\n"
     ]
    }
   ],
   "source": [
    "!pip install wfdb"
   ]
  },
  {
   "cell_type": "code",
   "execution_count": 3,
   "metadata": {
    "id": "T9fE3J2KwzDe"
   },
   "outputs": [],
   "source": [
    "import wfdb\n",
    "import numpy as np\n",
    "import pandas as pd\n",
    "from scipy import signal\n",
    "from sklearn.model_selection import train_test_split\n",
    "from sklearn.preprocessing import StandardScaler, LabelEncoder\n",
    "from collections import Counter\n",
    "import pickle\n",
    "import os\n",
    "from tqdm import tqdm\n",
    "import warnings\n",
    "warnings.filterwarnings('ignore')"
   ]
  },
  {
   "cell_type": "code",
   "execution_count": null,
   "metadata": {
    "colab": {
     "base_uri": "https://localhost:8080/"
    },
    "id": "3ck7Fa1EfpWt",
    "outputId": "ee278797-433b-46b4-e815-afc45ab2d034"
   },
   "outputs": [
    {
     "name": "stdout",
     "output_type": "stream",
     "text": [
      "Mounted at /content/drive\n",
      "Google Drive successfully mounted to /content/drive\n"
     ]
    }
   ],
   "source": [
    "from google.colab import drive\n",
    "drive.mount('/content/drive')\n",
    "\n",
    "print(\"Google Drive successfully mounted to /content/drive\")"
   ]
  },
  {
   "cell_type": "code",
   "execution_count": 15,
   "metadata": {
    "id": "RsuNcypOh4hl"
   },
   "outputs": [],
   "source": [
    "# DATA_PATH = '/content/drive/MyDrive/mit-bih-arrhythmia-database-1.0.0/'\n",
    "DATA_PATH = './mit-bih-arrhythmia-database-1.0.0/'"
   ]
  },
  {
   "cell_type": "code",
   "execution_count": 16,
   "metadata": {
    "id": "QTYlZXpujQoE"
   },
   "outputs": [],
   "source": [
    "OUTPUT_DIR = './processed_data/'\n",
    "os.makedirs(OUTPUT_DIR, exist_ok=True)"
   ]
  },
  {
   "cell_type": "code",
   "execution_count": 18,
   "metadata": {
    "id": "YC0fXfFZjZQk"
   },
   "outputs": [],
   "source": [
    "# MIT-BIH record IDs\n",
    "RECORD_IDS = ['100', '101', '102', '103', '104', '105', '106', '107', '108',\n",
    "              '109', '111', '112', '113', '114', '115', '116', '117', '118',\n",
    "              '119', '121', '122', '123', '124', '200', '201', '202', '203',\n",
    "              '205', '207', '208', '209', '210', '212', '213', '214', '215',\n",
    "              '217', '219', '220', '221', '222', '223', '228', '230', '231',\n",
    "              '232', '233', '234']"
   ]
  },
  {
   "cell_type": "code",
   "execution_count": 19,
   "metadata": {
    "id": "1jF0pz5GjZMO"
   },
   "outputs": [],
   "source": [
    "# Beat type mapping to 5 AAMI classes\n",
    "BEAT_MAPPING = {\n",
    "    'N': 'N',  # Normal\n",
    "    'L': 'N',  # Left bundle branch block\n",
    "    'R': 'N',  # Right bundle branch block\n",
    "    'e': 'N',  # Atrial escape\n",
    "    'j': 'N',  # Nodal escape\n",
    "    'A': 'S',  # Supraventricular - Atrial premature\n",
    "    'a': 'S',  # Supraventricular - Aberrated atrial premature\n",
    "    'J': 'S',  # Supraventricular - Nodal premature\n",
    "    'S': 'S',  # Supraventricular - Supraventricular premature\n",
    "    'V': 'V',  # Ventricular - Premature\n",
    "    'E': 'V',  # Ventricular - Escape\n",
    "    'F': 'F',  # Fusion\n",
    "    '/': 'Q',  # Paced\n",
    "    'f': 'F',  # Fusion of paced and normal\n",
    "    'Q': 'Q',  # Unclassifiable\n",
    "}"
   ]
  },
  {
   "cell_type": "code",
   "execution_count": 20,
   "metadata": {
    "id": "7IjYLofdjrhH"
   },
   "outputs": [],
   "source": [
    "\n",
    "# Preprocessing parameters\n",
    "SAMPLING_RATE = 360  # Hz\n",
    "WINDOW_SIZE = 180    # Samples before and after R-peak (0.5 seconds each side)\n",
    "LOWCUT = 0.5         # High-pass filter cutoff (Hz) - removes baseline wander\n",
    "HIGHCUT = 50.0       # Low-pass filter cutoff (Hz) - removes high-freq noise\n",
    "NOTCH_FREQ = 60.0    # Powerline interference frequency (Hz)\n"
   ]
  },
  {
   "cell_type": "code",
   "execution_count": 21,
   "metadata": {
    "colab": {
     "base_uri": "https://localhost:8080/"
    },
    "id": "kRXwaRQsjrcI",
    "outputId": "97e5dae0-86ec-4234-da48-f300e8aa64c5"
   },
   "outputs": [
    {
     "name": "stdout",
     "output_type": "stream",
     "text": [
      "================================================================================\n",
      "MIT-BIH PREPROCESSING PIPELINE\n",
      "================================================================================\n",
      "\n",
      "Configuration:\n",
      "  Data Path: ./mit-bih-arrhythmia-database-1.0.0/\n",
      "  Output Directory: ./processed_data/\n",
      "  Total Records: 48\n",
      "  Window Size: 360 samples (1.00 seconds)\n",
      "  Filters: HP=0.5Hz, LP=50.0Hz, Notch=60.0Hz\n",
      "  Test Size: 20.0%\n"
     ]
    }
   ],
   "source": [
    "# Train-test split parameters\n",
    "TEST_SIZE = 0.2\n",
    "RANDOM_STATE = 42\n",
    "\n",
    "print(\"=\" * 80)\n",
    "print(\"MIT-BIH PREPROCESSING PIPELINE\")\n",
    "print(\"=\" * 80)\n",
    "print(f\"\\nConfiguration:\")\n",
    "print(f\"  Data Path: {DATA_PATH}\")\n",
    "print(f\"  Output Directory: {OUTPUT_DIR}\")\n",
    "print(f\"  Total Records: {len(RECORD_IDS)}\")\n",
    "print(f\"  Window Size: {WINDOW_SIZE * 2} samples ({WINDOW_SIZE * 2 / SAMPLING_RATE:.2f} seconds)\")\n",
    "print(f\"  Filters: HP={LOWCUT}Hz, LP={HIGHCUT}Hz, Notch={NOTCH_FREQ}Hz\")\n",
    "print(f\"  Test Size: {TEST_SIZE * 100}%\")\n"
   ]
  },
  {
   "cell_type": "markdown",
   "metadata": {
    "id": "M5ftAQjDkpo4"
   },
   "source": [
    "1: SIGNAL FILTERING FUNCTIONS"
   ]
  },
  {
   "cell_type": "code",
   "execution_count": 22,
   "metadata": {
    "id": "Jibhbuk8jrX2"
   },
   "outputs": [],
   "source": [
    "def butter_bandpass_filter(data, lowcut, highcut, fs, order=4):\n",
    "    \"\"\"Applying Butterworth bandpass filter\"\"\"\n",
    "    nyquist = 0.5 * fs\n",
    "    low = lowcut / nyquist\n",
    "    high = highcut / nyquist\n",
    "    b, a = signal.butter(order, [low, high], btype='band')\n",
    "    filtered_data = signal.filtfilt(b, a, data, axis=0)\n",
    "    return filtered_data\n",
    "\n",
    "def notch_filter(data, freq, fs, quality=30):\n",
    "    \"\"\"Applying notch filter to remove powerline interference\"\"\"\n",
    "    nyquist = 0.5 * fs\n",
    "    freq_normalized = freq / nyquist\n",
    "    b, a = signal.iirnotch(freq_normalized, quality)\n",
    "    filtered_data = signal.filtfilt(b, a, data, axis=0)\n",
    "    return filtered_data"
   ]
  },
  {
   "cell_type": "markdown",
   "metadata": {
    "id": "kSapk8Wek8G_"
   },
   "source": [
    "    Complete signal preprocessing pipeline:\n",
    "    1. Bandpass filter (0.5-50 Hz)\n",
    "    2. Notch filter (60 Hz)\n",
    "    3. Z-score normalization\n",
    "    "
   ]
  },
  {
   "cell_type": "code",
   "execution_count": 23,
   "metadata": {
    "id": "QDMbowsTk7ow"
   },
   "outputs": [],
   "source": [
    "def preprocess_signal(raw_signal, fs=SAMPLING_RATE):\n",
    "\n",
    "    # bandpass filter\n",
    "    filtered = butter_bandpass_filter(raw_signal, LOWCUT, HIGHCUT, fs)\n",
    "\n",
    "    # notch filter\n",
    "    filtered = notch_filter(filtered, NOTCH_FREQ, fs)\n",
    "\n",
    "    # Z-score normalization (per signal)\n",
    "    mean = np.mean(filtered, axis=0)\n",
    "    std = np.std(filtered, axis=0)\n",
    "    normalized = (filtered - mean) / (std + 1e-8)  # Epsilon to avoid division by zero\n",
    "\n",
    "    return normalized"
   ]
  },
  {
   "cell_type": "markdown",
   "metadata": {
    "id": "yVh0xfWvlJyL"
   },
   "source": [
    "2: BEAT EXTRACTION"
   ]
  },
  {
   "cell_type": "code",
   "execution_count": 24,
   "metadata": {
    "id": "garr82jyk7j_"
   },
   "outputs": [],
   "source": [
    "def extract_beats_from_record(record_id, window_before=WINDOW_SIZE, window_after=WINDOW_SIZE):\n",
    "    \"\"\"\n",
    "    Extract and preprocess beats from a single record\n",
    "    Returns: beats (array), labels (list), record_id (list)\n",
    "    \"\"\"\n",
    "    try:\n",
    "        # Load record and annotations\n",
    "        record = wfdb.rdrecord(DATA_PATH + record_id)\n",
    "        annotation = wfdb.rdann(DATA_PATH + record_id, 'atr')\n",
    "\n",
    "        # Preprocess signal\n",
    "        preprocessed_signal = preprocess_signal(record.p_signal, record.fs)\n",
    "\n",
    "        beats = []\n",
    "        labels = []\n",
    "        record_ids = []\n",
    "\n",
    "        # Extract beats around R-peaks\n",
    "        for i, (sample, symbol) in enumerate(zip(annotation.sample, annotation.symbol)):\n",
    "            # Skip non-beat annotations\n",
    "            if symbol not in BEAT_MAPPING:\n",
    "                continue\n",
    "\n",
    "            # Check if beat is within valid range\n",
    "            start_idx = sample - window_before\n",
    "            end_idx = sample + window_after\n",
    "\n",
    "            if start_idx >= 0 and end_idx < len(preprocessed_signal):\n",
    "                # Extract beat segment (use first channel - MLII)\n",
    "                beat = preprocessed_signal[start_idx:end_idx, 0]\n",
    "\n",
    "                # Map to AAMI class\n",
    "                label = BEAT_MAPPING[symbol]\n",
    "\n",
    "                beats.append(beat)\n",
    "                labels.append(label)\n",
    "                record_ids.append(record_id)\n",
    "\n",
    "        return np.array(beats), labels, record_ids\n",
    "\n",
    "    except Exception as e:\n",
    "        print(f\" Error processing record {record_id}: {e}\")\n",
    "        return np.array([]), [], []\n"
   ]
  },
  {
   "cell_type": "markdown",
   "metadata": {
    "id": "sQx8eDdoly4C"
   },
   "source": [
    "3: PROCESSING ALL RECORDS"
   ]
  },
  {
   "cell_type": "code",
   "execution_count": 25,
   "metadata": {
    "colab": {
     "base_uri": "https://localhost:8080/"
    },
    "id": "dZ1hrqkrlbQI",
    "outputId": "6914f9db-dffc-44d9-a02e-b06a1b051f02"
   },
   "outputs": [
    {
     "name": "stdout",
     "output_type": "stream",
     "text": [
      "\n",
      "================================================================================\n",
      "STEP 1: EXTRACTING AND PREPROCESSING BEATS\n",
      "================================================================================\n",
      "\n",
      " Processing all records...\n"
     ]
    },
    {
     "name": "stderr",
     "output_type": "stream",
     "text": [
      "Processing records: 100%|██████████| 48/48 [00:10<00:00,  4.44it/s]"
     ]
    },
    {
     "name": "stdout",
     "output_type": "stream",
     "text": [
      "\n",
      " Extraction Complete!\n",
      "   Total beats extracted: 109,438\n",
      "   Beat shape: (109438, 360)\n",
      "   Unique classes: ['F' 'N' 'Q' 'S' 'V']\n",
      "\n",
      " Class Distribution (Before Split):\n",
      "   N: 90,582 beats (82.77%)\n",
      "   S:  2,781 beats ( 2.54%)\n",
      "   V:  7,235 beats ( 6.61%)\n",
      "   F:  1,784 beats ( 1.63%)\n",
      "   Q:  7,056 beats ( 6.45%)\n"
     ]
    },
    {
     "name": "stderr",
     "output_type": "stream",
     "text": [
      "\n"
     ]
    }
   ],
   "source": [
    "print(f\"\\n{'=' * 80}\")\n",
    "print(\"STEP 1: EXTRACTING AND PREPROCESSING BEATS\")\n",
    "print(\"=\" * 80)\n",
    "\n",
    "all_beats = []\n",
    "all_labels = []\n",
    "all_record_ids = []\n",
    "\n",
    "print(\"\\n Processing all records...\")\n",
    "for record_id in tqdm(RECORD_IDS, desc=\"Processing records\"):\n",
    "    beats, labels, record_ids = extract_beats_from_record(record_id)\n",
    "\n",
    "    if len(beats) > 0:\n",
    "        all_beats.append(beats)\n",
    "        all_labels.extend(labels)\n",
    "        all_record_ids.extend(record_ids)\n",
    "\n",
    "# Concatenate all beats\n",
    "X = np.concatenate(all_beats, axis=0)\n",
    "y = np.array(all_labels)\n",
    "record_ids_array = np.array(all_record_ids)\n",
    "\n",
    "print(f\"\\n Extraction Complete!\")\n",
    "print(f\"   Total beats extracted: {len(X):,}\")\n",
    "print(f\"   Beat shape: {X.shape}\")\n",
    "print(f\"   Unique classes: {np.unique(y)}\")\n",
    "\n",
    "# Display class distribution\n",
    "print(f\"\\n Class Distribution (Before Split):\")\n",
    "class_counts = Counter(y)\n",
    "for class_name in ['N', 'S', 'V', 'F', 'Q']:\n",
    "    count = class_counts.get(class_name, 0)\n",
    "    percentage = (count / len(y)) * 100\n",
    "    print(f\"   {class_name}: {count:6,} beats ({percentage:5.2f}%)\")"
   ]
  },
  {
   "cell_type": "markdown",
   "metadata": {
    "id": "ayuWMbrzmz2t"
   },
   "source": [
    "4: STRATIFIED TRAIN-TEST SPLIT"
   ]
  },
  {
   "cell_type": "code",
   "execution_count": 26,
   "metadata": {
    "colab": {
     "base_uri": "https://localhost:8080/"
    },
    "id": "AH4ArfWymk04",
    "outputId": "b8216aa8-ef55-4040-a7ad-3d479704eaf8"
   },
   "outputs": [
    {
     "name": "stdout",
     "output_type": "stream",
     "text": [
      "\n",
      "================================================================================\n",
      "STEP 2: CREATING STRATIFIED TRAIN-TEST SPLIT\n",
      "================================================================================\n",
      "\n",
      " Splitting strategy: Stratified inter-patient split\n",
      "   Total patients (records): 48\n",
      "\n",
      "   Patient distribution by dominant class:\n",
      "      N: 43 patients\n",
      "      Q: 4 patients\n",
      "      S: 1 patients\n",
      "\n",
      "  Patient-level stratification not possible: The least populated class in y has only 1 member, which is too few. The minimum number of groups for any class cannot be less than 2.\n",
      "   Falling back to beat-level stratified split\n",
      " Using beat-level stratified split\n",
      "\n",
      " Split Complete (Beat-level stratified)\n",
      "   Training samples: 87,550\n",
      "   Testing samples: 21,888\n",
      "   Split ratio: 80.0% / 20.0%\n",
      "\n",
      " Class Distribution in Training Set:\n",
      "   N: 72,465 beats (82.77%)\n",
      "   S:  2,225 beats ( 2.54%)\n",
      "   V:  5,788 beats ( 6.61%)\n",
      "   F:  1,427 beats ( 1.63%)\n",
      "   Q:  5,645 beats ( 6.45%)\n",
      "\n",
      " Class Distribution in Testing Set:\n",
      "   N: 18,117 beats (82.77%)\n",
      "   S:    556 beats ( 2.54%)\n",
      "   V:  1,447 beats ( 6.61%)\n",
      "   F:    357 beats ( 1.63%)\n",
      "   Q:  1,411 beats ( 6.45%)\n",
      "\n",
      " Stratification Verification:\n",
      "   Class    Train %    Test %     Difference  \n",
      "   -------- ---------- ---------- ------------\n",
      "   N         82.77%     82.77%      0.00%\n",
      "   S          2.54%      2.54%      0.00%\n",
      "   V          6.61%      6.61%      0.00%\n",
      "   F          1.63%      1.63%      0.00%\n",
      "   Q          6.45%      6.45%      0.00%\n",
      "\n",
      " All classes present in both train and test sets\n"
     ]
    }
   ],
   "source": [
    "print(f\"\\n{'=' * 80}\")\n",
    "print(\"STEP 2: CREATING STRATIFIED TRAIN-TEST SPLIT\")\n",
    "print(\"=\" * 80)\n",
    "\n",
    "# Calculation of dominant class for each patient\n",
    "patient_labels = {}\n",
    "for record_id in np.unique(record_ids_array):\n",
    "    patient_mask = record_ids_array == record_id\n",
    "    patient_y = y[patient_mask]\n",
    "    # Getting the most common class for this patient\n",
    "    dominant_class = Counter(patient_y).most_common(1)[0][0]\n",
    "    patient_labels[record_id] = dominant_class\n",
    "\n",
    "unique_records = np.array(list(patient_labels.keys()))\n",
    "patient_dominant_classes = np.array([patient_labels[r] for r in unique_records])\n",
    "\n",
    "print(f\"\\n Splitting strategy: Stratified inter-patient split\")\n",
    "print(f\"   Total patients (records): {len(unique_records)}\")\n",
    "\n",
    "\n",
    "# Checking if we have enough samples per class for stratified split\n",
    "class_counts_patients = Counter(patient_dominant_classes)\n",
    "print(f\"\\n   Patient distribution by dominant class:\")\n",
    "for cls in sorted(class_counts_patients.keys()):\n",
    "    print(f\"      {cls}: {class_counts_patients[cls]} patients\")\n",
    "\n",
    "# stratified split at patient level, try part\n",
    "try:\n",
    "    train_records, test_records = train_test_split(\n",
    "        unique_records,\n",
    "        test_size=TEST_SIZE,\n",
    "        random_state=RANDOM_STATE,\n",
    "        stratify=patient_dominant_classes,\n",
    "        shuffle=True\n",
    "    )\n",
    "    split_method = \"Patient-level stratified\"\n",
    "    print(f\"\\n Using patient-level stratified split\")\n",
    "\n",
    "except ValueError as e:\n",
    "    print(f\"\\n  Patient-level stratification not possible: {e}\")\n",
    "    print(f\"   Falling back to beat-level stratified split\")\n",
    "\n",
    "    # Direct stratified split on all beats\n",
    "    X_train, X_test, y_train, y_test = train_test_split(\n",
    "        X, y,\n",
    "        test_size=TEST_SIZE,\n",
    "        random_state=RANDOM_STATE,\n",
    "        stratify=y,  # Stratify by beat labels\n",
    "        shuffle=True\n",
    "    )\n",
    "    split_method = \"Beat-level stratified\"\n",
    "    print(f\" Using beat-level stratified split\")\n",
    "\n",
    "    # Skip the mask-based splitting below\n",
    "    train_records = None\n",
    "    test_records = None\n",
    "\n",
    "# If patient-level stratification succeeded, create masks\n",
    "if train_records is not None:\n",
    "    print(f\"   Train patients: {len(train_records)}\")\n",
    "    print(f\"   Test patients: {len(test_records)}\")\n",
    "\n",
    "    # Create train and test masks based on record IDs\n",
    "    train_mask = np.isin(record_ids_array, train_records)\n",
    "    test_mask = np.isin(record_ids_array, test_records)\n",
    "\n",
    "    # Split data\n",
    "    X_train = X[train_mask]\n",
    "    y_train = y[train_mask]\n",
    "    X_test = X[test_mask]\n",
    "    y_test = y[test_mask]\n",
    "\n",
    "print(f\"\\n Split Complete ({split_method})\")\n",
    "print(f\"   Training samples: {len(X_train):,}\")\n",
    "print(f\"   Testing samples: {len(X_test):,}\")\n",
    "print(f\"   Split ratio: {len(X_train)/(len(X_train)+len(X_test))*100:.1f}% / {len(X_test)/(len(X_train)+len(X_test))*100:.1f}%\")\n",
    "\n",
    "# Displaying class distribution in train and test\n",
    "print(f\"\\n Class Distribution in Training Set:\")\n",
    "train_class_counts = Counter(y_train)\n",
    "for class_name in ['N', 'S', 'V', 'F', 'Q']:\n",
    "    count = train_class_counts.get(class_name, 0)\n",
    "    percentage = (count / len(y_train)) * 100\n",
    "    print(f\"   {class_name}: {count:6,} beats ({percentage:5.2f}%)\")\n",
    "\n",
    "print(f\"\\n Class Distribution in Testing Set:\")\n",
    "test_class_counts = Counter(y_test)\n",
    "for class_name in ['N', 'S', 'V', 'F', 'Q']:\n",
    "    count = test_class_counts.get(class_name, 0)\n",
    "    percentage = (count / len(y_test)) * 100\n",
    "    print(f\"   {class_name}: {count:6,} beats ({percentage:5.2f}%)\")\n",
    "\n",
    "# Verifying stratification - compare train/test distributions\n",
    "print(f\"\\n Stratification Verification:\")\n",
    "print(f\"   {'Class':<8} {'Train %':<10} {'Test %':<10} {'Difference':<12}\")\n",
    "print(f\"   {'-'*8} {'-'*10} {'-'*10} {'-'*12}\")\n",
    "for class_name in ['N', 'S', 'V', 'F', 'Q']:\n",
    "    train_pct = (train_class_counts.get(class_name, 0) / len(y_train)) * 100\n",
    "    test_pct = (test_class_counts.get(class_name, 0) / len(y_test)) * 100\n",
    "    diff = abs(train_pct - test_pct)\n",
    "    print(f\"   {class_name:<8} {train_pct:>6.2f}%    {test_pct:>6.2f}%    {diff:>6.2f}%\")\n",
    "\n",
    "# Ensuring all classes are present in both sets\n",
    "train_classes = set(y_train)\n",
    "test_classes = set(y_test)\n",
    "missing_in_test = train_classes - test_classes\n",
    "missing_in_train = test_classes - train_classes\n",
    "\n",
    "if missing_in_test or missing_in_train:\n",
    "    print(f\"\\n  WARNING: Class mismatch detected!\")\n",
    "    if missing_in_test:\n",
    "        print(f\"   Classes missing in test set: {missing_in_test}\")\n",
    "    if missing_in_train:\n",
    "        print(f\"   Classes missing in train set: {missing_in_train}\")\n",
    "else:\n",
    "    print(f\"\\n All classes present in both train and test sets\")\n"
   ]
  },
  {
   "cell_type": "markdown",
   "metadata": {
    "id": "WdkQi5t6pHjh"
   },
   "source": [
    "5: ENCODE LABELS"
   ]
  },
  {
   "cell_type": "code",
   "execution_count": 27,
   "metadata": {
    "colab": {
     "base_uri": "https://localhost:8080/"
    },
    "id": "7MocAsb8pHRW",
    "outputId": "a981c8df-613e-42e0-9043-532eb4de1e97"
   },
   "outputs": [
    {
     "name": "stdout",
     "output_type": "stream",
     "text": [
      "\n",
      "================================================================================\n",
      "STEP 3: ENCODING LABELS\n",
      "================================================================================\n",
      "\n",
      " Labels Encoded!\n",
      "   Class mapping:\n",
      "      F -> 0\n",
      "      N -> 1\n",
      "      Q -> 2\n",
      "      S -> 3\n",
      "      V -> 4\n"
     ]
    }
   ],
   "source": [
    "print(f\"\\n{'=' * 80}\")\n",
    "print(\"STEP 3: ENCODING LABELS\")\n",
    "print(\"=\" * 80)\n",
    "\n",
    "# Encode string labels to integers; fitting only on traing data\n",
    "label_encoder = LabelEncoder()\n",
    "label_encoder.fit(y_train)\n",
    "\n",
    "y_train_encoded = label_encoder.transform(y_train)\n",
    "y_test_encoded = label_encoder.transform(y_test)\n",
    "\n",
    "print(f\"\\n Labels Encoded!\")\n",
    "print(f\"   Class mapping:\")\n",
    "for i, class_name in enumerate(label_encoder.classes_):\n",
    "    print(f\"      {class_name} -> {i}\")\n"
   ]
  },
  {
   "cell_type": "markdown",
   "metadata": {
    "id": "LQlwtGtPpiuX"
   },
   "source": [
    "6: ADDITIONAL NORMALIZATION"
   ]
  },
  {
   "cell_type": "code",
   "execution_count": 28,
   "metadata": {
    "colab": {
     "base_uri": "https://localhost:8080/"
    },
    "id": "rwZEWTeRpHMo",
    "outputId": "1b26ccd5-7286-4a33-e070-83bbb00c518c"
   },
   "outputs": [
    {
     "name": "stdout",
     "output_type": "stream",
     "text": [
      "\n",
      "================================================================================\n",
      "STEP 4: FINAL NORMALIZATION\n",
      "================================================================================\n",
      "\n",
      " Normalization Completed\n",
      "   Train set - Mean: 0.000000, Std: 1.000000\n",
      "   Test set - Mean: 0.001551, Std: 1.004005\n"
     ]
    }
   ],
   "source": [
    "print(f\"\\n{'=' * 80}\")\n",
    "print(\"STEP 4: FINAL NORMALIZATION\")\n",
    "print(\"=\" * 80)\n",
    "scaler = StandardScaler()\n",
    "X_train_scaled = scaler.fit_transform(X_train)\n",
    "X_test_scaled = scaler.transform(X_test)\n",
    "\n",
    "print(f\"\\n Normalization Completed\")\n",
    "print(f\"   Train set - Mean: {X_train_scaled.mean():.6f}, Std: {X_train_scaled.std():.6f}\")\n",
    "print(f\"   Test set - Mean: {X_test_scaled.mean():.6f}, Std: {X_test_scaled.std():.6f}\")\n"
   ]
  },
  {
   "cell_type": "markdown",
   "metadata": {
    "id": "pvntXp56p_b4"
   },
   "source": [
    "7: SAVE PROCESSED DATA"
   ]
  },
  {
   "cell_type": "code",
   "execution_count": 29,
   "metadata": {
    "colab": {
     "base_uri": "https://localhost:8080/"
    },
    "id": "SEWGoIyMpG9i",
    "outputId": "94fb642d-981b-4dc1-8f61-51fe83cd3b98"
   },
   "outputs": [
    {
     "name": "stdout",
     "output_type": "stream",
     "text": [
      "\n",
      "================================================================================\n",
      "STEP 5: SAVING PROCESSED DATA\n",
      "================================================================================\n",
      "\n",
      " All data saved to: ./processed_data/\n",
      "\n",
      " Files created:\n",
      "   1. X_train.npy - Training features (scaled)\n",
      "   2. X_test.npy - Testing features (scaled)\n",
      "   3. y_train.npy - Training labels (encoded)\n",
      "   4. y_test.npy - Testing labels (encoded)\n",
      "   5. X_train_unscaled.npy - Training features (unscaled)\n",
      "   6. X_test_unscaled.npy - Testing features (unscaled)\n",
      "   7. metadata.pkl - Label encoder, scaler, and other info\n"
     ]
    }
   ],
   "source": [
    "print(f\"\\n{'=' * 80}\")\n",
    "print(\"STEP 5: SAVING PROCESSED DATA\")\n",
    "print(\"=\" * 80)\n",
    "\n",
    "# Saveing as numpy arrays (efficient for large datasets)\n",
    "np.save(os.path.join(OUTPUT_DIR, 'X_train.npy'), X_train_scaled)\n",
    "np.save(os.path.join(OUTPUT_DIR, 'X_test.npy'), X_test_scaled)\n",
    "np.save(os.path.join(OUTPUT_DIR, 'y_train.npy'), y_train_encoded)\n",
    "np.save(os.path.join(OUTPUT_DIR, 'y_test.npy'), y_test_encoded)\n",
    "\n",
    "# Saving unscaled versions as well\n",
    "np.save(os.path.join(OUTPUT_DIR, 'X_train_unscaled.npy'), X_train)\n",
    "np.save(os.path.join(OUTPUT_DIR, 'X_test_unscaled.npy'), X_test)\n",
    "\n",
    "# Saving metadata\n",
    "metadata = {\n",
    "    'label_encoder': label_encoder,\n",
    "    'scaler': scaler,\n",
    "    'train_records': train_records if train_records is not None else 'beat-level-split',\n",
    "    'test_records': test_records if test_records is not None else 'beat-level-split',\n",
    "    'split_method': split_method,\n",
    "    'class_names': label_encoder.classes_,\n",
    "    'train_class_distribution': train_class_counts,\n",
    "    'test_class_distribution': test_class_counts,\n",
    "    'window_size': WINDOW_SIZE * 2,\n",
    "    'sampling_rate': SAMPLING_RATE,\n",
    "    'num_train_samples': len(X_train),\n",
    "    'num_test_samples': len(X_test),\n",
    "    'stratified': True,\n",
    "}\n",
    "\n",
    "with open(os.path.join(OUTPUT_DIR, 'metadata.pkl'), 'wb') as f:\n",
    "    pickle.dump(metadata, f)\n",
    "\n",
    "print(f\"\\n All data saved to: {OUTPUT_DIR}\")\n",
    "print(f\"\\n Files created:\")\n",
    "print(f\"   1. X_train.npy - Training features (scaled)\")\n",
    "print(f\"   2. X_test.npy - Testing features (scaled)\")\n",
    "print(f\"   3. y_train.npy - Training labels (encoded)\")\n",
    "print(f\"   4. y_test.npy - Testing labels (encoded)\")\n",
    "print(f\"   5. X_train_unscaled.npy - Training features (unscaled)\")\n",
    "print(f\"   6. X_test_unscaled.npy - Testing features (unscaled)\")\n",
    "print(f\"   7. metadata.pkl - Label encoder, scaler, and other info\")\n"
   ]
  },
  {
   "cell_type": "markdown",
   "metadata": {
    "id": "m65fdSdfund9"
   },
   "source": [
    "\n",
    "MIT-BIH Arrhythmia Classification with Attention Architecture\n",
    "====================================================================\n",
    "Implements the architecture from your diagram:\n",
    "- ResNet Encoder for feature extraction\n",
    "- Guided Attention (Clinical + Temporal)\n",
    "- Dual output: Classification + Reconstruction\n",
    "\n"
   ]
  },
  {
   "cell_type": "code",
   "execution_count": 31,
   "metadata": {
    "colab": {
     "base_uri": "https://localhost:8080/"
    },
    "id": "ZcD5xfiJqBIv",
    "outputId": "ec5960c4-db58-4e09-f973-94609abcc377"
   },
   "outputs": [
    {
     "name": "stdout",
     "output_type": "stream",
     "text": [
      "Using device: cuda\n"
     ]
    }
   ],
   "source": [
    "import torch\n",
    "import torch.nn as nn\n",
    "import torch.nn.functional as F\n",
    "from torch.utils.data import Dataset, DataLoader\n",
    "import numpy as np\n",
    "import pickle\n",
    "from sklearn.metrics import classification_report, confusion_matrix, f1_score\n",
    "from sklearn.utils.class_weight import compute_class_weight\n",
    "import matplotlib.pyplot as plt\n",
    "import seaborn as sns\n",
    "from tqdm import tqdm\n",
    "import os\n",
    "\n",
    "device = torch.device('cuda' if torch.cuda.is_available() else 'cpu')\n",
    "print(f\"Using device: {device}\")"
   ]
  },
  {
   "cell_type": "code",
   "execution_count": 32,
   "metadata": {
    "id": "BRmdy5HppG4Y"
   },
   "outputs": [],
   "source": [
    "# CONFIGURATION\n",
    "CONFIG = {\n",
    "    'data_dir': './processed_data/',\n",
    "    'model_dir': './models/',\n",
    "    'batch_size': 128,\n",
    "    'epochs': 10,\n",
    "    'learning_rate': 0.001,\n",
    "    'weight_decay': 1e-4,\n",
    "    'patience': 15,  # Early stopping patience\n",
    "    'reconstruction_weight': 0.3,  # Weight for reconstruction loss\n",
    "    'classification_weight': 1.0,  # Weight for classification loss\n",
    "}\n",
    "\n",
    "os.makedirs(CONFIG['model_dir'], exist_ok=True)\n"
   ]
  },
  {
   "cell_type": "code",
   "execution_count": 33,
   "metadata": {
    "id": "M9dFey8cu4n0"
   },
   "outputs": [],
   "source": [
    "# DATASET CLASS\n",
    "\n",
    "class ECGDataset(Dataset):\n",
    "    \"\"\"Dataset class for ECG signals\"\"\"\n",
    "    def __init__(self, X, y):\n",
    "        self.X = torch.FloatTensor(X).unsqueeze(1)  # Add channel dimension [N, 1, 360]\n",
    "        self.y = torch.LongTensor(y)\n",
    "\n",
    "    def __len__(self):\n",
    "        return len(self.X)\n",
    "\n",
    "    def __getitem__(self, idx):\n",
    "        return self.X[idx], self.y[idx]\n"
   ]
  },
  {
   "cell_type": "code",
   "execution_count": 34,
   "metadata": {
    "id": "8ijDj4Dlu4Ut"
   },
   "outputs": [],
   "source": [
    "# MODEL COMPONENTS\n",
    "class ResidualBlock(nn.Module):\n",
    "    \"\"\"Residual block for ResNet encoder\"\"\"\n",
    "    def __init__(self, in_channels, out_channels, stride=1):\n",
    "        super(ResidualBlock, self).__init__()\n",
    "        self.conv1 = nn.Conv1d(in_channels, out_channels, kernel_size=7,\n",
    "                               stride=stride, padding=3, bias=False)\n",
    "        self.bn1 = nn.BatchNorm1d(out_channels)\n",
    "        self.conv2 = nn.Conv1d(out_channels, out_channels, kernel_size=7,\n",
    "                               stride=1, padding=3, bias=False)\n",
    "        self.bn2 = nn.BatchNorm1d(out_channels)\n",
    "\n",
    "        self.shortcut = nn.Sequential()\n",
    "        if stride != 1 or in_channels != out_channels:\n",
    "            self.shortcut = nn.Sequential(\n",
    "                nn.Conv1d(in_channels, out_channels, kernel_size=1,\n",
    "                         stride=stride, bias=False),\n",
    "                nn.BatchNorm1d(out_channels)\n",
    "            )\n",
    "\n",
    "    def forward(self, x):\n",
    "        out = F.relu(self.bn1(self.conv1(x)))\n",
    "        out = self.bn2(self.conv2(out))\n",
    "        out += self.shortcut(x)\n",
    "        out = F.relu(out)\n",
    "        return out\n"
   ]
  },
  {
   "cell_type": "code",
   "execution_count": 35,
   "metadata": {
    "id": "jmER5sO1vQtV"
   },
   "outputs": [],
   "source": [
    "class ResNetEncoder(nn.Module):\n",
    "    \"\"\"ResNet-based encoder for feature extraction\"\"\"\n",
    "    def __init__(self, num_blocks=[2, 2, 2, 2]):\n",
    "        super(ResNetEncoder, self).__init__()\n",
    "        self.in_channels = 64\n",
    "\n",
    "        self.conv1 = nn.Conv1d(1, 64, kernel_size=15, stride=2, padding=7, bias=False)\n",
    "        self.bn1 = nn.BatchNorm1d(64)\n",
    "        self.maxpool = nn.MaxPool1d(kernel_size=3, stride=2, padding=1)\n",
    "\n",
    "        self.layer1 = self._make_layer(64, num_blocks[0], stride=1)\n",
    "        self.layer2 = self._make_layer(128, num_blocks[1], stride=2)\n",
    "        self.layer3 = self._make_layer(256, num_blocks[2], stride=2)\n",
    "        self.layer4 = self._make_layer(512, num_blocks[3], stride=2)\n",
    "\n",
    "    def _make_layer(self, out_channels, num_blocks, stride):\n",
    "        strides = [stride] + [1] * (num_blocks - 1)\n",
    "        layers = []\n",
    "        for stride in strides:\n",
    "            layers.append(ResidualBlock(self.in_channels, out_channels, stride))\n",
    "            self.in_channels = out_channels\n",
    "        return nn.Sequential(*layers)\n",
    "\n",
    "    def forward(self, x):\n",
    "        out = F.relu(self.bn1(self.conv1(x)))\n",
    "        out = self.maxpool(out)\n",
    "\n",
    "        out = self.layer1(out)\n",
    "        out = self.layer2(out)\n",
    "        out = self.layer3(out)\n",
    "        out = self.layer4(out)\n",
    "\n",
    "        return out"
   ]
  },
  {
   "cell_type": "code",
   "execution_count": 36,
   "metadata": {
    "id": "bOMjBwTpvQcW"
   },
   "outputs": [],
   "source": [
    "\n",
    "class ClinicalAttention(nn.Module):\n",
    "    \"\"\"Clinical attention focusing on morphological features\"\"\"\n",
    "    def __init__(self, in_channels):\n",
    "        super(ClinicalAttention, self).__init__()\n",
    "        self.attention = nn.Sequential(\n",
    "            nn.Conv1d(in_channels, in_channels // 4, kernel_size=1),\n",
    "            nn.ReLU(),\n",
    "            nn.Conv1d(in_channels // 4, in_channels, kernel_size=1),\n",
    "            nn.Sigmoid()\n",
    "        )\n",
    "\n",
    "    def forward(self, x):\n",
    "        att_weights = self.attention(x)\n",
    "        return x * att_weights, att_weights\n"
   ]
  },
  {
   "cell_type": "code",
   "execution_count": 37,
   "metadata": {
    "id": "xjyZdCDsva1r"
   },
   "outputs": [],
   "source": [
    "\n",
    "class TemporalAttention(nn.Module):\n",
    "    \"\"\"Temporal attention focusing on time-series patterns\"\"\"\n",
    "    def __init__(self, in_channels):\n",
    "        super(TemporalAttention, self).__init__()\n",
    "        self.query = nn.Conv1d(in_channels, in_channels // 8, kernel_size=1)\n",
    "        self.key = nn.Conv1d(in_channels, in_channels // 8, kernel_size=1)\n",
    "        self.value = nn.Conv1d(in_channels, in_channels, kernel_size=1)\n",
    "        self.gamma = nn.Parameter(torch.zeros(1))\n",
    "\n",
    "    def forward(self, x):\n",
    "        batch_size, C, length = x.size()\n",
    "\n",
    "        proj_query = self.query(x).view(batch_size, -1, length).permute(0, 2, 1)\n",
    "        proj_key = self.key(x).view(batch_size, -1, length)\n",
    "\n",
    "        energy = torch.bmm(proj_query, proj_key)\n",
    "        attention = F.softmax(energy, dim=-1)\n",
    "\n",
    "        proj_value = self.value(x).view(batch_size, -1, length)\n",
    "        out = torch.bmm(proj_value, attention.permute(0, 2, 1))\n",
    "        out = out.view(batch_size, C, length)\n",
    "\n",
    "        out = self.gamma * out + x\n",
    "        return out, attention"
   ]
  },
  {
   "cell_type": "code",
   "execution_count": 38,
   "metadata": {
    "id": "5lGys-n7vath"
   },
   "outputs": [],
   "source": [
    "\n",
    "class GuidedAttention(nn.Module):\n",
    "    \"\"\"Combines clinical and temporal attention\"\"\"\n",
    "    def __init__(self, in_channels):\n",
    "        super(GuidedAttention, self).__init__()\n",
    "        self.clinical_attention = ClinicalAttention(in_channels)\n",
    "        self.temporal_attention = TemporalAttention(in_channels)\n",
    "\n",
    "    def forward(self, x):\n",
    "        # Clinical attention\n",
    "        clinical_out, clinical_weights = self.clinical_attention(x)\n",
    "\n",
    "        # Temporal attention\n",
    "        temporal_out, temporal_weights = self.temporal_attention(clinical_out)\n",
    "\n",
    "        return temporal_out, clinical_weights, temporal_weights\n"
   ]
  },
  {
   "cell_type": "code",
   "execution_count": 39,
   "metadata": {
    "id": "SwczofgvviQm"
   },
   "outputs": [],
   "source": [
    "\n",
    "class ECGReconstructor(nn.Module):\n",
    "    \"\"\"Decoder for ECG signal reconstruction\"\"\"\n",
    "    def __init__(self, in_channels=512, target_length=360):\n",
    "        super(ECGReconstructor, self).__init__()\n",
    "        self.target_length = target_length\n",
    "\n",
    "        self.decoder = nn.Sequential(\n",
    "            nn.ConvTranspose1d(in_channels, 256, kernel_size=4, stride=2, padding=1),\n",
    "            nn.BatchNorm1d(256),\n",
    "            nn.ReLU(),\n",
    "            nn.ConvTranspose1d(256, 128, kernel_size=4, stride=2, padding=1),\n",
    "            nn.BatchNorm1d(128),\n",
    "            nn.ReLU(),\n",
    "            nn.ConvTranspose1d(128, 64, kernel_size=4, stride=2, padding=1),\n",
    "            nn.BatchNorm1d(64),\n",
    "            nn.ReLU(),\n",
    "            nn.ConvTranspose1d(64, 32, kernel_size=4, stride=2, padding=1),\n",
    "            nn.BatchNorm1d(32),\n",
    "            nn.ReLU(),\n",
    "            nn.ConvTranspose1d(32, 1, kernel_size=4, stride=2, padding=1),\n",
    "        )\n",
    "\n",
    "    def forward(self, x):\n",
    "        out = self.decoder(x)\n",
    "\n",
    "        if out.size(2) != self.target_length:\n",
    "            out = F.interpolate(out, size=self.target_length, mode='linear', align_corners=False)\n",
    "        return out\n"
   ]
  },
  {
   "cell_type": "code",
   "execution_count": 40,
   "metadata": {
    "id": "yub_hTZlviGx"
   },
   "outputs": [],
   "source": [
    "class MultiAttentionECGModel(nn.Module):\n",
    "    \"\"\"\n",
    "    Complete multi-attention model for ECG classification\n",
    "    Following the architecture diagram\n",
    "    \"\"\"\n",
    "    def __init__(self, num_classes=5, input_length=360):\n",
    "        super(MultiAttentionECGModel, self).__init__()\n",
    "\n",
    "        # Encoder\n",
    "        self.encoder = ResNetEncoder()\n",
    "\n",
    "        # Guided Attention\n",
    "        self.guided_attention = GuidedAttention(in_channels=512)\n",
    "\n",
    "        # Classifier\n",
    "        self.global_pool = nn.AdaptiveAvgPool1d(1)\n",
    "        self.classifier = nn.Sequential(\n",
    "            nn.Linear(512, 256),\n",
    "            nn.ReLU(),\n",
    "            nn.Dropout(0.5),\n",
    "            nn.Linear(256, 128),\n",
    "            nn.ReLU(),\n",
    "            nn.Dropout(0.5),\n",
    "            nn.Linear(128, num_classes)\n",
    "        )\n",
    "\n",
    "        # Reconstructor\n",
    "        self.reconstructor = ECGReconstructor(in_channels=512, target_length=input_length)\n",
    "\n",
    "    def forward(self, x):\n",
    "        # Encode\n",
    "        features = self.encoder(x)\n",
    "\n",
    "        # Guided attention\n",
    "        attended_features, clinical_att, temporal_att = self.guided_attention(features)\n",
    "\n",
    "        # Classification branch\n",
    "        pooled = self.global_pool(attended_features).squeeze(-1)\n",
    "        class_output = self.classifier(pooled)\n",
    "\n",
    "        # Reconstruction branch\n",
    "        reconstructed = self.reconstructor(attended_features)\n",
    "\n",
    "        return class_output, reconstructed, clinical_att, temporal_att\n",
    "\n"
   ]
  },
  {
   "cell_type": "markdown",
   "metadata": {
    "id": "J9Hx6-MGvQDY"
   },
   "source": [
    "TRAINING FUNCTION"
   ]
  },
  {
   "cell_type": "code",
   "execution_count": null,
   "metadata": {
    "id": "c06VTCwXv5UT"
   },
   "outputs": [],
   "source": [
    "\n",
    "def train_epoch(model, train_loader, criterion_class, criterion_recon,\n",
    "                optimizer, device, class_weights):\n",
    "    model.train()\n",
    "    total_loss = 0\n",
    "    correct = 0\n",
    "    total = 0\n",
    "\n",
    "    pbar = tqdm(train_loader, desc='Training')\n",
    "    for inputs, targets in pbar:\n",
    "        inputs, targets = inputs.to(device), targets.to(device)\n",
    "\n",
    "        optimizer.zero_grad()\n",
    "\n",
    "        # Forward pass\n",
    "        class_output, reconstructed, _, _ = model(inputs)\n",
    "\n",
    "        # Calculate losses\n",
    "        class_loss = criterion_class(class_output, targets)\n",
    "        recon_loss = criterion_recon(reconstructed, inputs)\n",
    "\n",
    "        # Combined loss\n",
    "        loss = (CONFIG['classification_weight'] * class_loss +\n",
    "                CONFIG['reconstruction_weight'] * recon_loss)\n",
    "\n",
    "        # Backward pass\n",
    "        loss.backward()\n",
    "        optimizer.step()\n",
    "\n",
    "        # Statistics\n",
    "        total_loss += loss.item()\n",
    "        _, predicted = class_output.max(1)\n",
    "        total += targets.size(0)\n",
    "        correct += predicted.eq(targets).sum().item()\n",
    "\n",
    "        pbar.set_postfix({\n",
    "            'loss': f'{loss.item():.4f}',\n",
    "            'acc': f'{100.*correct/total:.2f}%'\n",
    "        })\n",
    "\n",
    "    return total_loss / len(train_loader), 100. * correct / total\n",
    "\n",
    "def validate(model, val_loader, criterion_class, criterion_recon, device):\n",
    "    model.eval()\n",
    "    total_loss = 0\n",
    "    correct = 0\n",
    "    total = 0\n",
    "    all_preds = []\n",
    "    all_targets = []\n",
    "\n",
    "    with torch.no_grad():\n",
    "        pbar = tqdm(val_loader, desc='Validation')\n",
    "        for inputs, targets in pbar:\n",
    "            inputs, targets = inputs.to(device), targets.to(device)\n",
    "\n",
    "            # Forward pass\n",
    "            class_output, reconstructed, _, _ = model(inputs)\n",
    "\n",
    "            # Calculate losses\n",
    "            class_loss = criterion_class(class_output, targets)\n",
    "            recon_loss = criterion_recon(reconstructed, inputs)\n",
    "            loss = (CONFIG['classification_weight'] * class_loss +\n",
    "                    CONFIG['reconstruction_weight'] * recon_loss)\n",
    "\n",
    "            # Statistics\n",
    "            total_loss += loss.item()\n",
    "            _, predicted = class_output.max(1)\n",
    "            total += targets.size(0)\n",
    "            correct += predicted.eq(targets).sum().item()\n",
    "\n",
    "            all_preds.extend(predicted.cpu().numpy())\n",
    "            all_targets.extend(targets.cpu().numpy())\n",
    "\n",
    "            pbar.set_postfix({\n",
    "                'loss': f'{loss.item():.4f}',\n",
    "                'acc': f'{100.*correct/total:.2f}%'\n",
    "            })\n",
    "\n",
    "    # ADD THIS: Calculate comprehensive metrics\n",
    "\n",
    "    from sklearn.metrics import precision_score, recall_score, f1_score\n",
    "    \n",
    "    accuracy = 100. * correct / total\n",
    "    \n",
    "    # Calculate weighted metrics (important for imbalanced data)\n",
    "    precision = precision_score(all_targets, all_preds, average='weighted', zero_division=0)\n",
    "    recall = recall_score(all_targets, all_preds, average='weighted', zero_division=0)\n",
    "    f1 = f1_score(all_targets, all_preds, average='weighted', zero_division=0)\n",
    "    \n",
    "    # Return all metrics\n",
    "    metrics = {\n",
    "        'loss': total_loss / len(val_loader),\n",
    "        'accuracy': accuracy,\n",
    "        'precision': precision,\n",
    "        'recall': recall,\n",
    "        'f1_score': f1,\n",
    "        'predictions': all_preds,\n",
    "        'targets': all_targets\n",
    "    }\n",
    "    \n",
    "    return metrics  # Changed from returning individual values\n",
    "    \n",
    "    # return total_loss / len(val_loader), 100. * correct / total, all_preds, all_targets\n"
   ]
  },
  {
   "cell_type": "markdown",
   "metadata": {
    "id": "G_Cz-Il2wDIp"
   },
   "source": [
    "MAIN TRAINING SCRIPT"
   ]
  },
  {
   "cell_type": "code",
   "execution_count": 50,
   "metadata": {
    "colab": {
     "base_uri": "https://localhost:8080/"
    },
    "id": "inaMRuSCwCvS",
    "outputId": "b58fc6a9-2f35-4c93-f7bc-cbd08093eb03"
   },
   "outputs": [
    {
     "name": "stdout",
     "output_type": "stream",
     "text": [
      "================================================================================\n",
      "MULTI-ATTENTION ECG CLASSIFICATION MODEL\n",
      "================================================================================\n",
      "\n",
      "Loading preprocessed data...\n",
      "Data loaded successfully\n",
      "  Train samples: 87,550\n",
      "  Test samples: 21,888\n",
      "  Classes: ['F' 'N' 'Q' 'S' 'V']\n",
      "  Input shape: 360\n",
      "\n",
      "Class weights for imbalanced data:\n",
      "  F: 12.2705\n",
      "  N: 0.2416\n",
      "  Q: 3.1019\n",
      "  S: 7.8697\n",
      "  V: 3.0252\n",
      "\n",
      "Building model...\n",
      " Model created\n",
      "   Total parameters: 10,049,639\n",
      "   Trainable parameters: 10,049,639\n",
      "\n",
      "Starting training for 10 epochs...\n",
      "   Batch size: 128\n",
      "   Learning rate: 0.001\n",
      "   Early stopping patience: 15\n",
      "\n",
      "================================================================================\n",
      "Epoch 1/10\n",
      "================================================================================\n"
     ]
    },
    {
     "name": "stderr",
     "output_type": "stream",
     "text": [
      "Training: 100%|██████████| 684/684 [00:40<00:00, 17.01it/s, loss=0.5313, acc=78.51%]\n",
      "Validation: 100%|██████████| 171/171 [00:03<00:00, 56.15it/s, loss=0.2988, acc=92.82%]\n"
     ]
    },
    {
     "name": "stdout",
     "output_type": "stream",
     "text": [
      "\n",
      "Epoch Summary:\n",
      "  Train Loss: 0.6042 | Train Acc: 78.51%\n",
      "  Val Loss:   0.3200 | Val Acc:   92.82%\n",
      "   Val Precision: 0.9624\n",
      "   Val Recall:    0.9282\n",
      "   Val F1-Score:  0.9401\n",
      "   Learning Rate: 0.001000\n",
      "  Best model saved! (Val Loss: 0.3200)\n",
      "\n",
      "================================================================================\n",
      "Epoch 2/10\n",
      "================================================================================\n"
     ]
    },
    {
     "name": "stderr",
     "output_type": "stream",
     "text": [
      "Training: 100%|██████████| 684/684 [00:40<00:00, 16.81it/s, loss=0.3825, acc=90.58%]\n",
      "Validation: 100%|██████████| 171/171 [00:03<00:00, 56.77it/s, loss=0.7271, acc=78.92%]\n"
     ]
    },
    {
     "name": "stdout",
     "output_type": "stream",
     "text": [
      "\n",
      "Epoch Summary:\n",
      "  Train Loss: 0.2963 | Train Acc: 90.58%\n",
      "  Val Loss:   0.3664 | Val Acc:   78.92%\n",
      "   Val Precision: 0.9342\n",
      "   Val Recall:    0.7892\n",
      "   Val F1-Score:  0.8346\n",
      "   Learning Rate: 0.001000\n",
      "  No improvement. Patience: 1/15\n",
      "\n",
      "================================================================================\n",
      "Epoch 3/10\n",
      "================================================================================\n"
     ]
    },
    {
     "name": "stderr",
     "output_type": "stream",
     "text": [
      "Training: 100%|██████████| 684/684 [00:40<00:00, 16.74it/s, loss=0.1403, acc=91.30%]\n",
      "Validation: 100%|██████████| 171/171 [00:03<00:00, 55.87it/s, loss=0.2197, acc=85.69%]\n"
     ]
    },
    {
     "name": "stdout",
     "output_type": "stream",
     "text": [
      "\n",
      "Epoch Summary:\n",
      "  Train Loss: 0.2383 | Train Acc: 91.30%\n",
      "  Val Loss:   0.3825 | Val Acc:   85.69%\n",
      "   Val Precision: 0.9437\n",
      "   Val Recall:    0.8569\n",
      "   Val F1-Score:  0.8844\n",
      "   Learning Rate: 0.001000\n",
      "  No improvement. Patience: 2/15\n",
      "\n",
      "================================================================================\n",
      "Epoch 4/10\n",
      "================================================================================\n"
     ]
    },
    {
     "name": "stderr",
     "output_type": "stream",
     "text": [
      "Training: 100%|██████████| 684/684 [00:41<00:00, 16.68it/s, loss=0.1010, acc=92.92%]\n",
      "Validation: 100%|██████████| 171/171 [00:03<00:00, 56.02it/s, loss=0.1595, acc=91.74%]\n"
     ]
    },
    {
     "name": "stdout",
     "output_type": "stream",
     "text": [
      "\n",
      "Epoch Summary:\n",
      "  Train Loss: 0.2004 | Train Acc: 92.92%\n",
      "  Val Loss:   0.2114 | Val Acc:   91.74%\n",
      "   Val Precision: 0.9681\n",
      "   Val Recall:    0.9174\n",
      "   Val F1-Score:  0.9362\n",
      "   Learning Rate: 0.001000\n",
      "  Best model saved! (Val Loss: 0.2114)\n",
      "\n",
      "================================================================================\n",
      "Epoch 5/10\n",
      "================================================================================\n"
     ]
    },
    {
     "name": "stderr",
     "output_type": "stream",
     "text": [
      "Training: 100%|██████████| 684/684 [00:41<00:00, 16.65it/s, loss=0.4329, acc=93.78%]\n",
      "Validation: 100%|██████████| 171/171 [00:03<00:00, 56.55it/s, loss=0.3568, acc=91.26%]\n"
     ]
    },
    {
     "name": "stdout",
     "output_type": "stream",
     "text": [
      "\n",
      "Epoch Summary:\n",
      "  Train Loss: 0.1739 | Train Acc: 93.78%\n",
      "  Val Loss:   0.2304 | Val Acc:   91.26%\n",
      "   Val Precision: 0.9579\n",
      "   Val Recall:    0.9126\n",
      "   Val F1-Score:  0.9275\n",
      "   Learning Rate: 0.001000\n",
      "  No improvement. Patience: 1/15\n",
      "\n",
      "================================================================================\n",
      "Epoch 6/10\n",
      "================================================================================\n"
     ]
    },
    {
     "name": "stderr",
     "output_type": "stream",
     "text": [
      "Training: 100%|██████████| 684/684 [00:41<00:00, 16.67it/s, loss=0.0782, acc=94.76%]\n",
      "Validation: 100%|██████████| 171/171 [00:03<00:00, 55.91it/s, loss=0.1872, acc=96.27%]\n"
     ]
    },
    {
     "name": "stdout",
     "output_type": "stream",
     "text": [
      "\n",
      "Epoch Summary:\n",
      "  Train Loss: 0.1571 | Train Acc: 94.76%\n",
      "  Val Loss:   0.1915 | Val Acc:   96.27%\n",
      "   Val Precision: 0.9763\n",
      "   Val Recall:    0.9627\n",
      "   Val F1-Score:  0.9673\n",
      "   Learning Rate: 0.001000\n",
      "  Best model saved! (Val Loss: 0.1915)\n",
      "\n",
      "================================================================================\n",
      "Epoch 7/10\n",
      "================================================================================\n"
     ]
    },
    {
     "name": "stderr",
     "output_type": "stream",
     "text": [
      "Training: 100%|██████████| 684/684 [00:40<00:00, 16.69it/s, loss=0.2374, acc=94.26%]\n",
      "Validation: 100%|██████████| 171/171 [00:03<00:00, 56.86it/s, loss=0.1354, acc=92.23%]\n"
     ]
    },
    {
     "name": "stdout",
     "output_type": "stream",
     "text": [
      "\n",
      "Epoch Summary:\n",
      "  Train Loss: 0.1589 | Train Acc: 94.26%\n",
      "  Val Loss:   0.1601 | Val Acc:   92.23%\n",
      "   Val Precision: 0.9644\n",
      "   Val Recall:    0.9223\n",
      "   Val F1-Score:  0.9362\n",
      "   Learning Rate: 0.001000\n",
      "  Best model saved! (Val Loss: 0.1601)\n",
      "\n",
      "================================================================================\n",
      "Epoch 8/10\n",
      "================================================================================\n"
     ]
    },
    {
     "name": "stderr",
     "output_type": "stream",
     "text": [
      "Training: 100%|██████████| 684/684 [00:40<00:00, 16.70it/s, loss=0.2794, acc=94.63%]\n",
      "Validation: 100%|██████████| 171/171 [00:03<00:00, 56.79it/s, loss=0.0817, acc=94.59%]\n"
     ]
    },
    {
     "name": "stdout",
     "output_type": "stream",
     "text": [
      "\n",
      "Epoch Summary:\n",
      "  Train Loss: 0.1432 | Train Acc: 94.63%\n",
      "  Val Loss:   0.1641 | Val Acc:   94.59%\n",
      "   Val Precision: 0.9654\n",
      "   Val Recall:    0.9459\n",
      "   Val F1-Score:  0.9519\n",
      "   Learning Rate: 0.001000\n",
      "  No improvement. Patience: 1/15\n",
      "\n",
      "================================================================================\n",
      "Epoch 9/10\n",
      "================================================================================\n"
     ]
    },
    {
     "name": "stderr",
     "output_type": "stream",
     "text": [
      "Training: 100%|██████████| 684/684 [00:40<00:00, 16.75it/s, loss=0.0646, acc=95.26%]\n",
      "Validation: 100%|██████████| 171/171 [00:03<00:00, 56.75it/s, loss=0.1536, acc=95.99%]\n"
     ]
    },
    {
     "name": "stdout",
     "output_type": "stream",
     "text": [
      "\n",
      "Epoch Summary:\n",
      "  Train Loss: 0.1364 | Train Acc: 95.26%\n",
      "  Val Loss:   0.1217 | Val Acc:   95.99%\n",
      "   Val Precision: 0.9749\n",
      "   Val Recall:    0.9599\n",
      "   Val F1-Score:  0.9647\n",
      "   Learning Rate: 0.001000\n",
      "  Best model saved! (Val Loss: 0.1217)\n",
      "\n",
      "================================================================================\n",
      "Epoch 10/10\n",
      "================================================================================\n"
     ]
    },
    {
     "name": "stderr",
     "output_type": "stream",
     "text": [
      "Training: 100%|██████████| 684/684 [00:40<00:00, 16.84it/s, loss=0.0931, acc=96.03%]\n",
      "Validation: 100%|██████████| 171/171 [00:03<00:00, 56.77it/s, loss=0.1413, acc=93.54%]\n"
     ]
    },
    {
     "name": "stdout",
     "output_type": "stream",
     "text": [
      "\n",
      "Epoch Summary:\n",
      "  Train Loss: 0.1183 | Train Acc: 96.03%\n",
      "  Val Loss:   0.1618 | Val Acc:   93.54%\n",
      "   Val Precision: 0.9702\n",
      "   Val Recall:    0.9354\n",
      "   Val F1-Score:  0.9476\n",
      "   Learning Rate: 0.001000\n",
      "  No improvement. Patience: 1/15\n",
      "\n",
      "================================================================================\n",
      "FINAL EVALUATION\n",
      "================================================================================\n"
     ]
    },
    {
     "name": "stderr",
     "output_type": "stream",
     "text": [
      "Validation: 100%|██████████| 171/171 [00:03<00:00, 56.38it/s, loss=0.1536, acc=95.99%]\n"
     ]
    },
    {
     "name": "stdout",
     "output_type": "stream",
     "text": [
      "\n",
      "Best Model Performance:\n",
      "  Accuracy:  95.99%\n",
      "  Loss:      0.1217\n",
      "  Precision: 0.9749 | Recall: 0.9599 | F1: 0.9647\n",
      "\n",
      "Detailed Classification Report:\n",
      "              precision    recall  f1-score   support\n",
      "\n",
      "           F     0.4414    0.9496    0.6027       357\n",
      "           N     0.9982    0.9573    0.9773     18117\n",
      "           Q     0.9922    0.9887    0.9904      1411\n",
      "           S     0.6476    0.9586    0.7730       556\n",
      "           V     0.9241    0.9682    0.9457      1447\n",
      "\n",
      "    accuracy                         0.9599     21888\n",
      "   macro avg     0.8007    0.9645    0.8578     21888\n",
      "weighted avg     0.9749    0.9599    0.9647     21888\n",
      "\n",
      "Confusion matrix saved!\n",
      "Training history saved!\n",
      "\n",
      "================================================================================\n",
      "TRAINING COMPLETED\n",
      "================================================================================\n",
      "All results saved to: ./models/\n"
     ]
    },
    {
     "data": {
      "image/png": "[encoded data removed]",
      "text/plain": [
       "<Figure size 1000x800 with 2 Axes>"
      ]
     },
     "metadata": {},
     "output_type": "display_data"
    },
    {
     "data": {
      "image/png": "[encoded data removed]",
      "text/plain": [
       "<Figure size 1500x500 with 2 Axes>"
      ]
     },
     "metadata": {},
     "output_type": "display_data"
    }
   ],
   "source": [
    "def main():\n",
    "    print(\"=\" * 80)\n",
    "    print(\"MULTI-ATTENTION ECG CLASSIFICATION MODEL\")\n",
    "    print(\"=\" * 80)\n",
    "\n",
    "    # Load preprocessed data\n",
    "    print(\"\\nLoading preprocessed data...\")\n",
    "    X_train = np.load(os.path.join(CONFIG['data_dir'], 'X_train.npy'))\n",
    "    X_test = np.load(os.path.join(CONFIG['data_dir'], 'X_test.npy'))\n",
    "    y_train = np.load(os.path.join(CONFIG['data_dir'], 'y_train.npy'))\n",
    "    y_test = np.load(os.path.join(CONFIG['data_dir'], 'y_test.npy'))\n",
    "\n",
    "    with open(os.path.join(CONFIG['data_dir'], 'metadata.pkl'), 'rb') as f:\n",
    "        metadata = pickle.load(f)\n",
    "\n",
    "    num_classes = len(metadata['class_names'])\n",
    "    class_names = metadata['class_names']\n",
    "\n",
    "    print(f\"Data loaded successfully\")\n",
    "    print(f\"  Train samples: {len(X_train):,}\")\n",
    "    print(f\"  Test samples: {len(X_test):,}\")\n",
    "    print(f\"  Classes: {class_names}\")\n",
    "    print(f\"  Input shape: {X_train.shape[1]}\")\n",
    "\n",
    "    # Create datasets\n",
    "    train_dataset = ECGDataset(X_train, y_train)\n",
    "    test_dataset = ECGDataset(X_test, y_test)\n",
    "\n",
    "    train_loader = DataLoader(train_dataset, batch_size=CONFIG['batch_size'],\n",
    "                              shuffle=True, num_workers=4, pin_memory=True)\n",
    "   \n",
    "    test_loader = DataLoader(test_dataset, batch_size=CONFIG['batch_size'],\n",
    "                             shuffle=False, num_workers=4, pin_memory=True)\n",
    "\n",
    "    # Calculate class weights for imbalanced data\n",
    "    class_weights = compute_class_weight('balanced',\n",
    "                                         classes=np.unique(y_train),\n",
    "                                         y=y_train)\n",
    "    \n",
    "    class_weights = torch.FloatTensor(class_weights).to(device)\n",
    "    \n",
    "    print(\"\\nClass weights for imbalanced data:\")\n",
    "    for name, weight in zip(class_names, class_weights):\n",
    "        print(f\"  {name}: {weight:.4f}\")\n",
    "\n",
    "    # Initialize model\n",
    "    print(\"\\nBuilding model...\")\n",
    "    model = MultiAttentionECGModel(num_classes=num_classes,\n",
    "                                   input_length=X_train.shape[1]).to(device)\n",
    "    \n",
    "    total_params = sum(p.numel() for p in model.parameters())\n",
    "    trainable_params = sum(p.numel() for p in model.parameters() if p.requires_grad)\n",
    "    print(f\" Model created\")\n",
    "    print(f\"   Total parameters: {total_params:,}\")\n",
    "    print(f\"   Trainable parameters: {trainable_params:,}\")\n",
    "\n",
    "\n",
    "    # Loss functions and optimizer\n",
    "    criterion_class = nn.CrossEntropyLoss(weight=class_weights)\n",
    "    criterion_recon = nn.MSELoss()\n",
    "    optimizer = torch.optim.Adam(model.parameters(),\n",
    "                                 lr=CONFIG['learning_rate'],\n",
    "                                 weight_decay=CONFIG['weight_decay'])\n",
    "    scheduler = torch.optim.lr_scheduler.ReduceLROnPlateau(\n",
    "        optimizer, mode='min', patience=5, factor=0.5\n",
    "    )\n",
    "\n",
    "    # Training loop\n",
    "    print(f\"\\nStarting training for {CONFIG['epochs']} epochs...\")\n",
    "    print(f\"   Batch size: {CONFIG['batch_size']}\")\n",
    "    print(f\"   Learning rate: {CONFIG['learning_rate']}\")\n",
    "    print(f\"   Early stopping patience: {CONFIG['patience']}\")\n",
    "\n",
    "    best_val_loss = float('inf')\n",
    "    best_val_acc = 0\n",
    "    patience_counter = 0\n",
    "    history = {'train_loss': [], 'train_acc': [],\n",
    "               'val_loss': [], 'val_acc': [],\n",
    "               'val_precision': [], 'val_recall': [], 'val_f1': []}\n",
    "\n",
    "    for epoch in range(CONFIG['epochs']):\n",
    "        print(f\"\\n{'=' * 80}\")\n",
    "        print(f\"Epoch {epoch + 1}/{CONFIG['epochs']}\")\n",
    "        print(f\"{'=' * 80}\")\n",
    "\n",
    "        # Train\n",
    "        train_loss, train_acc = train_epoch(model, train_loader, criterion_class,\n",
    "                                            criterion_recon, optimizer, device, class_weights)\n",
    "\n",
    "        # Validate\n",
    "        val_metrics = validate(model, test_loader, criterion_class, criterion_recon, device)\n",
    "\n",
    "        #Extract metrics\n",
    "        val_loss = val_metrics['loss']\n",
    "        val_acc = val_metrics['accuracy']\n",
    "        val_precision = val_metrics['precision']\n",
    "        val_recall = val_metrics['recall']\n",
    "        val_f1 = val_metrics['f1_score']\n",
    "\n",
    "        # Update scheduler\n",
    "        scheduler.step(val_loss)\n",
    "\n",
    "        # Save history\n",
    "        history['train_loss'].append(train_loss)\n",
    "        history['train_acc'].append(train_acc)\n",
    "        history['val_loss'].append(val_loss)\n",
    "        history['val_acc'].append(val_acc)\n",
    "\n",
    "        # Track additional metrics in history\n",
    "        if 'val_precision' not in history:\n",
    "            history['val_precision'] = []\n",
    "            history['val_recall'] = []\n",
    "            history['val_f1'] = []\n",
    "        \n",
    "        history['val_precision'].append(val_precision)\n",
    "        history['val_recall'].append(val_recall)\n",
    "        history['val_f1'].append(val_f1)\n",
    "\n",
    "        # Print summary\n",
    "        print(f\"\\nEpoch Summary:\")\n",
    "        print(f\"  Train Loss: {train_loss:.4f} | Train Acc: {train_acc:.2f}%\")\n",
    "        print(f\"  Val Loss:   {val_loss:.4f} | Val Acc:   {val_acc:.2f}%\")\n",
    "        print(f\"   Val Precision: {val_precision:.4f}\")\n",
    "        print(f\"   Val Recall:    {val_recall:.4f}\")\n",
    "        print(f\"   Val F1-Score:  {val_f1:.4f}\")\n",
    "        print(f\"   Learning Rate: {optimizer.param_groups[0]['lr']:.6f}\")\n",
    "\n",
    "        # Save best model\n",
    "        if val_loss < best_val_loss:\n",
    "            best_val_loss = val_loss\n",
    "            patience_counter = 0\n",
    "            torch.save({\n",
    "                'epoch': epoch,\n",
    "                'model_state_dict': model.state_dict(),\n",
    "                'optimizer_state_dict': optimizer.state_dict(),\n",
    "                'val_loss': val_loss,\n",
    "                'val_acc': val_acc,\n",
    "                'val_precision': val_precision,\n",
    "                'val_recall': val_recall,\n",
    "                'val_f1': val_f1,\n",
    "                'class_names': class_names,\n",
    "                'config': CONFIG\n",
    "            }, os.path.join(CONFIG['model_dir'], 'best_model.pth'))\n",
    "            print(f\"  Best model saved! (Val Loss: {val_loss:.4f})\")\n",
    "        else:\n",
    "            patience_counter += 1\n",
    "            print(f\"  No improvement. Patience: {patience_counter}/{CONFIG['patience']}\")\n",
    "\n",
    "        # Early stopping\n",
    "        if patience_counter >= CONFIG['patience']:\n",
    "            print(f\"\\n Early stopping triggered after {epoch + 1} epochs.\")\n",
    "            break\n",
    "\n",
    "    # Final Evaluation\n",
    "    print(f\"\\n{'=' * 80}\")\n",
    "    print(\"FINAL EVALUATION\")\n",
    "    print(f\"{'=' * 80}\")\n",
    "\n",
    "    checkpoint = torch.load(os.path.join(CONFIG['model_dir'], 'best_model.pth'), weights_only=False)\n",
    "    model.load_state_dict(checkpoint['model_state_dict'])\n",
    "\n",
    "    final_metrics = validate(model, test_loader, criterion_class, criterion_recon, device)\n",
    "    \n",
    "    print(f\"\\nBest Model Performance:\")\n",
    "    print(f\"  Accuracy:  {final_metrics['accuracy']:.2f}%\")\n",
    "    print(f\"  Loss:      {final_metrics['loss']:.4f}\")\n",
    "    print(f\"  Precision: {final_metrics['precision']:.4f} | Recall: {final_metrics['recall']:.4f} | F1: {final_metrics['f1_score']:.4f}\")\n",
    "\n",
    "    #Classification Report\n",
    "    print(\"\\nDetailed Classification Report:\")\n",
    "    print(classification_report(final_metrics['targets'], final_metrics['predictions'],\n",
    "                                target_names=class_names, digits=4))\n",
    "\n",
    "    # Confusion Matrix\n",
    "    cm = confusion_matrix(final_metrics['targets'], final_metrics['predictions'])\n",
    "    plt.figure(figsize=(10, 8))\n",
    "    sns.heatmap(cm, annot=True, fmt='d', cmap='Blues',\n",
    "                xticklabels=class_names, yticklabels=class_names)\n",
    "    plt.title('Confusion Matrix', fontsize=14, fontweight='bold')\n",
    "    plt.ylabel('True Label', fontsize=12)\n",
    "    plt.xlabel('Predicted Label', fontsize=12)\n",
    "    plt.tight_layout()\n",
    "    plt.savefig(os.path.join(CONFIG['model_dir'], 'confusion_matrix.png'), dpi=150)\n",
    "    print(\"Confusion matrix saved!\")\n",
    "\n",
    "    # Training History plot\n",
    "    fig, axes = plt.subplots(1, 2, figsize=(15, 5))\n",
    "\n",
    "    #Loss\n",
    "    axes[0].plot(history['train_loss'], label='Train Loss', linewidth=2)\n",
    "    axes[0].plot(history['val_loss'], label='Val Loss', linewidth=2)\n",
    "    axes[0].set_xlabel('Epoch', fontsize=11)\n",
    "    axes[0].set_ylabel('Loss', fontsize=11)\n",
    "    axes[0].set_title('Training and Validation Loss', fontsize=13, fontweight='bold')\n",
    "    axes[0].legend()\n",
    "    axes[0].grid(True, alpha=0.3)\n",
    "\n",
    "    # Accuracy\n",
    "    axes[1].plot(history['train_acc'], label='Train Acc', linewidth=2)\n",
    "    axes[1].plot(history['val_acc'], label='Val Acc', linewidth=2)\n",
    "    axes[1].set_xlabel('Epoch', fontsize=11)\n",
    "    axes[1].set_ylabel('Accuracy (%)', fontsize=11)\n",
    "    axes[1].set_title('Training and Validation Accuracy', fontsize=13, fontweight='bold')\n",
    "    axes[1].legend()\n",
    "    axes[1].grid(True, alpha=0.3)\n",
    "\n",
    "    plt.tight_layout()\n",
    "    plt.savefig(os.path.join(CONFIG['model_dir'], 'training_history.png'), dpi=150)\n",
    "    print(\"Training history saved!\")\n",
    "\n",
    "    print(f\"\\n{'=' * 80}\")\n",
    "    print(\"TRAINING COMPLETED\")\n",
    "    print(f\"{'=' * 80}\")\n",
    "    print(f\"All results saved to: {CONFIG['model_dir']}\")\n",
    "\n",
    "\n",
    "if __name__ == '__main__':\n",
    "    main()\n"
   ]
  },
  {
   "cell_type": "code",
   "execution_count": 57,
   "metadata": {
    "id": "wCz7BGXXAGM1",
    "scrolled": true
   },
   "outputs": [
    {
     "name": "stdout",
     "output_type": "stream",
     "text": [
      "Loaded best model from epoch 8\n"
     ]
    },
    {
     "name": "stderr",
     "output_type": "stream",
     "text": [
      "Validation: 100%|██████████| 171/171 [00:02<00:00, 59.10it/s, loss=0.7264, acc=72.88%]\n"
     ]
    },
    {
     "name": "stdout",
     "output_type": "stream",
     "text": [
      "\n",
      "OVERALL METRICS\n",
      "Macro Average: Accuracy=0.7288, Precision=0.6364, Recall=0.6772, F1=0.5812\n",
      "Weighted Average: Precision=0.9178, Recall=0.7288, F1=0.8044\n",
      "\n",
      "PER-CLASS DETAILED METRICS\n",
      "              precision    recall  f1-score   support\n",
      "\n",
      "           F     0.0594    0.8319    0.1110       357\n",
      "           N     0.9666    0.7396    0.8380     18117\n",
      "           Q     0.6124    0.6215    0.6170      1411\n",
      "           S     0.6072    0.3921    0.4765       556\n",
      "           V     0.9362    0.8010    0.8633      1447\n",
      "\n",
      "    accuracy                         0.7288     21888\n",
      "   macro avg     0.6364    0.6772    0.5812     21888\n",
      "weighted avg     0.9178    0.7288    0.8044     21888\n",
      "\n"
     ]
    },
    {
     "data": {
      "image/png": "[encoded data removed]",
      "text/plain": [
       "<Figure size 1600x600 with 4 Axes>"
      ]
     },
     "metadata": {},
     "output_type": "display_data"
    },
    {
     "name": "stdout",
     "output_type": "stream",
     "text": [
      "Confusion matrix saved!\n",
      "\n",
      "PER-CLASS ACCURACY BREAKDOWN\n",
      "Class          Correct   Total     Accuracy    Error Rate  \n",
      "F              297       357       0.8319      0.1681      \n",
      "N              13400     18117     0.7396      0.2604      \n",
      "Q              877       1411      0.6215      0.3785      \n",
      "S              218       556       0.3921      0.6079      \n",
      "V              1159      1447      0.8010      0.1990      \n",
      "\n",
      "Total misclassifications: 5937 / 21888 (27.12%)\n",
      "\n",
      "Top 5 Confusion Pairs:\n",
      "True Class     Predicted As   Count     % of True Class\n",
      "N              F              4233      23.36%\n",
      "N              Q              309       1.71%\n",
      "Q              F              289       20.48%\n",
      "Q              N              241       17.08%\n",
      "S              Q              216       38.85%\n",
      "\n",
      "EVALUATION COMPLETE!\n"
     ]
    }
   ],
   "source": [
    "# COMPREHENSIVE FINAL EVALUATION\n",
    "\n",
    "# Load metadata to get class mapping\n",
    "with open(os.path.join(CONFIG['data_dir'], 'metadata.pkl'), 'rb') as f:\n",
    "    metadata = pickle.load(f)\n",
    "\n",
    "class_names = metadata['class_names']\n",
    "label_to_idx = {name: idx for idx, name in enumerate(class_names)}\n",
    "\n",
    "# Encode y_test if it's string labels\n",
    "y_test_encoded = np.array([label_to_idx[y] for y in y_test])\n",
    "\n",
    "# Load best model\n",
    "checkpoint = torch.load(os.path.join(CONFIG['model_dir'], 'best_model.pth'), weights_only=False)\n",
    "model = MultiAttentionECGModel(num_classes=len(class_names), input_length=X_test.shape[1]).to(device)\n",
    "model.load_state_dict(checkpoint['model_state_dict'])\n",
    "print(f\"Loaded best model from epoch {checkpoint['epoch']}\")\n",
    "\n",
    "# Define loss functions for evaluation\n",
    "class_weights = torch.ones(len(class_names)).to(device)  # If you want balanced weights, adjust here\n",
    "criterion_class = nn.CrossEntropyLoss(weight=class_weights)\n",
    "criterion_recon = nn.MSELoss()\n",
    "\n",
    "# Create test loader\n",
    "test_dataset = ECGDataset(X_test, y_test_encoded)\n",
    "test_loader = DataLoader(test_dataset, batch_size=CONFIG['batch_size'], shuffle=False)\n",
    "\n",
    "# Get final predictions\n",
    "final_metrics = validate(model, test_loader, criterion_class, criterion_recon, device)\n",
    "y_true = np.array(final_metrics['targets'])\n",
    "y_pred = np.array(final_metrics['predictions'])\n",
    "\n",
    "from sklearn.metrics import accuracy_score, precision_score, recall_score, f1_score, classification_report, confusion_matrix\n",
    "\n",
    "# Overall metrics\n",
    "accuracy = accuracy_score(y_true, y_pred)\n",
    "precision_macro = precision_score(y_true, y_pred, average='macro', zero_division=0)\n",
    "recall_macro = recall_score(y_true, y_pred, average='macro', zero_division=0)\n",
    "f1_macro = f1_score(y_true, y_pred, average='macro', zero_division=0)\n",
    "\n",
    "precision_weighted = precision_score(y_true, y_pred, average='weighted', zero_division=0)\n",
    "recall_weighted = recall_score(y_true, y_pred, average='weighted', zero_division=0)\n",
    "f1_weighted = f1_score(y_true, y_pred, average='weighted', zero_division=0)\n",
    "\n",
    "print(\"\\nOVERALL METRICS\")\n",
    "print(f\"Macro Average: Accuracy={accuracy:.4f}, Precision={precision_macro:.4f}, Recall={recall_macro:.4f}, F1={f1_macro:.4f}\")\n",
    "print(f\"Weighted Average: Precision={precision_weighted:.4f}, Recall={recall_weighted:.4f}, F1={f1_weighted:.4f}\")\n",
    "\n",
    "# Per-class metrics\n",
    "print(\"\\nPER-CLASS DETAILED METRICS\")\n",
    "print(classification_report(y_true, y_pred, target_names=class_names, digits=4, zero_division=0))\n",
    "\n",
    "# Confusion matrix\n",
    "cm = confusion_matrix(y_true, y_pred)\n",
    "fig, axes = plt.subplots(1, 2, figsize=(16, 6))\n",
    "\n",
    "sns.heatmap(cm, annot=True, fmt='d', cmap='Blues', xticklabels=class_names, yticklabels=class_names, ax=axes[0])\n",
    "axes[0].set_title('Confusion Matrix (Counts)')\n",
    "axes[0].set_ylabel('True Label')\n",
    "axes[0].set_xlabel('Predicted Label')\n",
    "\n",
    "cm_normalized = cm.astype('float') / cm.sum(axis=1)[:, np.newaxis]\n",
    "sns.heatmap(cm_normalized, annot=True, fmt='.2%', cmap='Blues', xticklabels=class_names, yticklabels=class_names, ax=axes[1])\n",
    "axes[1].set_title('Confusion Matrix (Normalized)')\n",
    "axes[1].set_ylabel('True Label')\n",
    "axes[1].set_xlabel('Predicted Label')\n",
    "\n",
    "plt.tight_layout()\n",
    "plt.savefig(os.path.join(CONFIG['model_dir'], 'final_confusion_matrix.png'), dpi=300, bbox_inches='tight')\n",
    "plt.show()\n",
    "print(\"Confusion matrix saved!\")\n",
    "\n",
    "# Per-class accuracy breakdown\n",
    "print(\"\\nPER-CLASS ACCURACY BREAKDOWN\")\n",
    "print(f\"{'Class':<15}{'Correct':<10}{'Total':<10}{'Accuracy':<12}{'Error Rate':<12}\")\n",
    "for i, class_name in enumerate(class_names):\n",
    "    class_mask = y_true == i\n",
    "    class_correct = np.sum((y_true == i) & (y_pred == i))\n",
    "    class_total = np.sum(class_mask)\n",
    "    class_acc = class_correct / class_total if class_total > 0 else 0\n",
    "    error_rate = 1 - class_acc\n",
    "    print(f\"{class_name:<15}{class_correct:<10}{class_total:<10}{class_acc:<12.4f}{error_rate:<12.4f}\")\n",
    "\n",
    "# Misclassification analysis\n",
    "misclassified_mask = y_true != y_pred\n",
    "n_misclassified = np.sum(misclassified_mask)\n",
    "print(f\"\\nTotal misclassifications: {n_misclassified} / {len(y_true)} ({n_misclassified/len(y_true)*100:.2f}%)\")\n",
    "\n",
    "# Top 5 confusion pairs\n",
    "confusion_pairs = []\n",
    "for i in range(len(class_names)):\n",
    "    for j in range(len(class_names)):\n",
    "        if i != j:\n",
    "            count = np.sum((y_true == i) & (y_pred == j))\n",
    "            if count > 0:\n",
    "                pct = count / np.sum(y_true == i) * 100\n",
    "                confusion_pairs.append((class_names[i], class_names[j], count, pct))\n",
    "confusion_pairs.sort(key=lambda x: x[2], reverse=True)\n",
    "\n",
    "print(\"\\nTop 5 Confusion Pairs:\")\n",
    "print(f\"{'True Class':<15}{'Predicted As':<15}{'Count':<10}{'% of True Class'}\")\n",
    "for true_cls, pred_cls, count, pct in confusion_pairs[:5]:\n",
    "    print(f\"{true_cls:<15}{pred_cls:<15}{count:<10}{pct:.2f}%\")\n",
    "\n",
    "print(\"\\nEVALUATION COMPLETE!\")"
   ]
  },
  {
   "cell_type": "code",
   "execution_count": null,
   "metadata": {},
   "outputs": [],
   "source": []
  }
 ],
 "metadata": {
  "colab": {
   "provenance": []
  },
  "kernelspec": {
   "display_name": "Python 3",
   "language": "python",
   "name": "python3"
  },
  "language_info": {
   "codemirror_mode": {
    "name": "ipython",
    "version": 3
   },
   "file_extension": ".py",
   "mimetype": "text/x-python",
   "name": "python",
   "nbconvert_exporter": "python",
   "pygments_lexer": "ipython3",
   "version": "3.12.11"
  }
 },
 "nbformat": 4,
 "nbformat_minor": 4
}
